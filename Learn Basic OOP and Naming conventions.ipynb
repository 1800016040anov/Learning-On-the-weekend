{
 "cells": [
  {
   "cell_type": "markdown",
   "id": "ee55a3ef",
   "metadata": {},
   "source": [
    "\n",
    "\n",
    "Object-oriented programming is a programming paradigm that provides a\n",
    "means of structuring programs so that properties and behaviors are bundled into individual objects\n"
   ]
  },
  {
   "cell_type": "markdown",
   "id": "bcdf71d0",
   "metadata": {},
   "source": [
    "# CLASSES \n",
    "\n",
    "\n",
    "__Class names__ should normally use the CapWords convention.\n",
    "\n",
    ": allow you to create user-defined data structures\n",
    "\n",
    "CLASS define functions called methods, which identify the behaviors\n",
    "and action that an object created from the class can perform with its data\n",
    "\n",
    "__Init__() :  reguraly known as dunder(double underscore) it's define the properties that\n",
    "all class object MUST HAVE in a method called it .\n",
    "\n",
    "__attribute__ in init are called instance attribute \n",
    "             __MAKE SURE__  indent the __init__() by 4 space and the body of method 8 SPACE\n",
    "\n",
    "\n",
    "__class attribute__ : are attributes that have the same value for all class instance. __make sure__ define class directly beneath the first line of the class name and indent them by four space. __need__ to assign them initial value \n",
    "\n",
    "\n",
    "\n",
    "1. self.name = name creates an attribute called name and \n",
    "               assigns the value of the name parameter to it.\n",
    "2. self.age = age creates an attribute called \n",
    "              age and assigns the value of the age parameter to it."
   ]
  },
  {
   "cell_type": "code",
   "execution_count": 13,
   "id": "6bfd2549",
   "metadata": {},
   "outputs": [],
   "source": [
    "## example \n",
    "#Surround top-level function and class definitions with two blank lines.(pep 8)\n",
    "#Method definitions inside a class are surrounded by a single blank line.\n",
    "\n",
    "\"\"\"example class dog\n",
    "\n",
    "this is the example class dog for learning purpose.\n",
    "\"\"\"\n",
    "class Dog: #naming class use cap words\n",
    "    pass\n",
    "    \n",
    "    "
   ]
  },
  {
   "cell_type": "code",
   "execution_count": 14,
   "id": "56d96e50",
   "metadata": {},
   "outputs": [
    {
     "data": {
      "text/plain": [
       "<__main__.Dog at 0x1f4cce2f310>"
      ]
     },
     "execution_count": 14,
     "metadata": {},
     "output_type": "execute_result"
    }
   ],
   "source": [
    "Dog()"
   ]
  },
  {
   "cell_type": "code",
   "execution_count": 15,
   "id": "8908252f",
   "metadata": {},
   "outputs": [
    {
     "data": {
      "text/plain": [
       "<__main__.Dog at 0x1f4ccea6b50>"
      ]
     },
     "execution_count": 15,
     "metadata": {},
     "output_type": "execute_result"
    }
   ],
   "source": [
    "Dog()"
   ]
  },
  {
   "cell_type": "markdown",
   "id": "27cb2698",
   "metadata": {},
   "source": [
    "every we initiate a class dog it will located to difference memory  address  its entirely new instance and is completely unique from the first dog that we have create"
   ]
  },
  {
   "cell_type": "markdown",
   "id": "2de72765",
   "metadata": {},
   "source": [
    "## naming conventions\n",
    "for naming convention wee need to considering several thing : \n",
    "1. make sure the names should be descriptive, intuitive and stay related over time \n",
    "\n",
    "\n",
    "\n",
    "2. Public name API : u just need to write without any underscore \n"
   ]
  },
  {
   "cell_type": "code",
   "execution_count": 18,
   "id": "8559220d",
   "metadata": {},
   "outputs": [
    {
     "data": {
      "text/plain": [
       "'This is a public name.'"
      ]
     },
     "execution_count": 18,
     "metadata": {},
     "output_type": "execute_result"
    }
   ],
   "source": [
    "public = \"This is a public name.\"\n",
    "public\n"
   ]
  },
  {
   "cell_type": "markdown",
   "id": "38bec0a7",
   "metadata": {},
   "source": [
    "3. Single Leaning Underscore (e.g _variable) : are indicates that the name is mean for internal use\n"
   ]
  },
  {
   "cell_type": "code",
   "execution_count": 20,
   "id": "551073e7",
   "metadata": {},
   "outputs": [
    {
     "data": {
      "text/plain": [
       "\"This isn't public name\""
      ]
     },
     "execution_count": 20,
     "metadata": {},
     "output_type": "execute_result"
    }
   ],
   "source": [
    "_non_public = \"This isn't public name\"\n",
    "_non_public"
   ]
  },
  {
   "cell_type": "markdown",
   "id": "92d5cd92",
   "metadata": {},
   "source": [
    "in general, you should use a single leading underscore only when you need to indicate that a variable, class , method, function or module is intended for internal use whithin the containing module, class, or package."
   ]
  },
  {
   "cell_type": "markdown",
   "id": "79fdb9ab",
   "metadata": {},
   "source": [
    "## let discuss about every single thing in variable, constant, method, and class where you should use private and public "
   ]
  },
  {
   "cell_type": "markdown",
   "id": "f1f5b85d",
   "metadata": {},
   "source": [
    "# internal variable and constant "
   ]
  },
  {
   "cell_type": "markdown",
   "id": "02544f4f",
   "metadata": {},
   "source": [
    "how ever put a public variable in modules isn't a good idea due too consideration : \n",
    "\n",
    "- make lose track of change because the variable can be reuse in outof nowhere\n",
    "\n",
    "- reduce reusablity so that variable can changed \n",
    "\n",
    "- difficult to test and debug \n",
    "\n",
    "- naming conflict \n",
    "\n",
    "- hard to refactor\n",
    "\n",
    "- however constant like PI it's better to put in internal use since only need to put in round calculation method "
   ]
  },
  {
   "cell_type": "markdown",
   "id": "47d35973",
   "metadata": {},
   "source": [
    "# helper function\n",
    "\n",
    " helper function are another good example of where you may want to use non public names, knowing that helper function is code reuse, and most of the time use for internal use only and it shouldn't be a part of modules api. as an example helper validate bellow :\n",
    " \n",
    " "
   ]
  },
  {
   "cell_type": "code",
   "execution_count": 22,
   "id": "4f00c9de",
   "metadata": {},
   "outputs": [],
   "source": [
    " _PI = 3.14\n",
    "\n",
    "class Circle:\n",
    "    def __init__(self, radius):\n",
    "        self.radius = _validate(radius)\n",
    "\n",
    "    def calculate_area(self):\n",
    "        return round(_PI * self.radius**2, 2)\n",
    "\n",
    "class Square:\n",
    "    def __init__(self, side):\n",
    "        self.side = _validate(side)\n",
    "\n",
    "    def calculate_area(self):\n",
    "        return round(self.side**2, 2)\n",
    "\n",
    "def _validate(value):\n",
    "        if not isinstance(value, int | float) or value <= 0:\n",
    "            raise ValueError(\"positive number expected\")\n",
    "        return value"
   ]
  },
  {
   "cell_type": "markdown",
   "id": "ca76d25c",
   "metadata": {},
   "source": [
    "# Non public module\n",
    "\n",
    "it also possible to make module non public to signal that the module at hand provides an internal implementaion of some piece of code\n",
    "\n",
    "- one advantage of using that is to avoid the module call when other user do wild card import (e.g import *) which affect all module will be imported\n",
    "\n",
    "by using _method so you need to call it manually to use it "
   ]
  },
  {
   "cell_type": "markdown",
   "id": "10cff083",
   "metadata": {},
   "source": [
    "# class with  public vs non public members\n",
    "\n",
    "-  public  or non public is a way to describe where the class is a part of public interface or not  \n",
    "\n",
    "- not public exist to support the internal implementation of given class may disappear at any ime \n",
    "\n",
    "\n"
   ]
  },
  {
   "cell_type": "code",
   "execution_count": 30,
   "id": "fd5a1a26",
   "metadata": {},
   "outputs": [],
   "source": [
    "class Point:\n",
    "    def __init__(self, x, y):\n",
    "        self.x = x\n",
    "        self.y = y"
   ]
  },
  {
   "cell_type": "markdown",
   "id": "1eb0087d",
   "metadata": {},
   "source": [
    "In this class, you have two public attributes, .x and .y, which represent the point’s coordinates. You can access and change these attributes using dot notation as usual:"
   ]
  },
  {
   "cell_type": "markdown",
   "id": "78da2a7d",
   "metadata": {},
   "source": [
    "# Non Public attributes \n",
    "\n",
    "there's several purpose why non public attribute is exist : \n",
    "- promoting encapsulation  by hiding internal implementation\n",
    "- implementing chacing and memorization \n",
    "- protecting internal state\n"
   ]
  },
  {
   "cell_type": "code",
   "execution_count": 31,
   "id": "403d5eaf",
   "metadata": {},
   "outputs": [
    {
     "data": {
      "text/plain": [
       "'10'"
      ]
     },
     "execution_count": 31,
     "metadata": {},
     "output_type": "execute_result"
    }
   ],
   "source": [
    "\n",
    "\n",
    "point = Point(12, 5)\n",
    "\n",
    "# Access the coordinates\n",
    "point.x\n",
    "\n",
    "point.y\n",
    "\n",
    "# Update a coordinate\n",
    "point.x = 24\n",
    "point.x\n",
    "\n",
    "\n",
    "# Assign an invalid data type\n",
    "point.y = \"10\"\n",
    "point.y\n"
   ]
  },
  {
   "cell_type": "markdown",
   "id": "d1555302",
   "metadata": {},
   "source": [
    "As you can conclude from this short example, you can access and update attributes directly using dot notation. In the final example, you should note that your class doesn’t validate the value that you assign to a coordinate, which may not be the right way to use Point.\n",
    "\n",
    "To solve the data type inconsistency, you may want to add function behavior on top of the .x and .y attributes so that you can implement appropriate validation logic. Plain attributes won’t let you do that. You need a method or a function.\n",
    "\n",
    "You can solve this issue without modifying your class’s public interface by turning the attributes into properties:"
   ]
  },
  {
   "cell_type": "code",
   "execution_count": 25,
   "id": "f0e912c7",
   "metadata": {},
   "outputs": [],
   "source": [
    "class Point:\n",
    "    def __init__(self, x, y):\n",
    "        self.x = x\n",
    "        self.y = y\n",
    "\n",
    "    @property\n",
    "    def x(self):\n",
    "        return self._x\n",
    "\n",
    "    @x.setter\n",
    "    def x(self, value):\n",
    "        self._x = _validate(value)\n",
    "\n",
    "    @property\n",
    "    def y(self):\n",
    "        return self._y\n",
    "\n",
    "    @y.setter\n",
    "    def y(self, value):\n",
    "        self._y = _validate(value)\n",
    "\n",
    "def _validate(value):\n",
    "    if not isinstance(value, int | float):\n",
    "        raise ValueError(\"number expected\")\n",
    "    return value"
   ]
  },
  {
   "cell_type": "markdown",
   "id": "3466490b",
   "metadata": {},
   "source": [
    "A lot is happening in this new version of Point. The first noticeable change is that you’ve stored the coordinates in non-public attributes inside methods named after the attributes. You implement both attributes as properties using the @property decorator to define the getter methods and the @attribute_name.setter decorator to define the setter methods.\n",
    "\n",
    "In the setter methods, you use the _validate() helper function to make sure that the input values are valid numbers. Note how you store the actual value in the corresponding non-public attribute, which isn’t part of your class’s API. Using the public attributes inside .__init__() makes sure that the validation happens on instantiation as well.\n",
    "\n",
    "Python’s properties allow you to create attributes with function-like behaviors. However, you don’t have to call properties as methods. You can continue accessing them as normal attributes:"
   ]
  },
  {
   "cell_type": "code",
   "execution_count": 28,
   "id": "cc0237f8",
   "metadata": {},
   "outputs": [
    {
     "ename": "ValueError",
     "evalue": "number expected",
     "output_type": "error",
     "traceback": [
      "\u001b[1;31m---------------------------------------------------------------------------\u001b[0m",
      "\u001b[1;31mValueError\u001b[0m                                Traceback (most recent call last)",
      "Cell \u001b[1;32mIn[28], line 40\u001b[0m\n\u001b[0;32m     36\u001b[0m point\u001b[38;5;241m.\u001b[39mx \u001b[38;5;241m=\u001b[39m \u001b[38;5;241m24\u001b[39m\n\u001b[0;32m     37\u001b[0m point\u001b[38;5;241m.\u001b[39mx\n\u001b[1;32m---> 40\u001b[0m \u001b[43mpoint\u001b[49m\u001b[38;5;241;43m.\u001b[39;49m\u001b[43my\u001b[49m \u001b[38;5;241m=\u001b[39m \u001b[38;5;124m\"\u001b[39m\u001b[38;5;124m10\u001b[39m\u001b[38;5;124m\"\u001b[39m\n",
      "Cell \u001b[1;32mIn[28], line 20\u001b[0m, in \u001b[0;36mPoint.y\u001b[1;34m(self, value)\u001b[0m\n\u001b[0;32m     18\u001b[0m \u001b[38;5;129m@y\u001b[39m\u001b[38;5;241m.\u001b[39msetter\n\u001b[0;32m     19\u001b[0m \u001b[38;5;28;01mdef\u001b[39;00m \u001b[38;5;21my\u001b[39m(\u001b[38;5;28mself\u001b[39m, value):\n\u001b[1;32m---> 20\u001b[0m     \u001b[38;5;28mself\u001b[39m\u001b[38;5;241m.\u001b[39m_y \u001b[38;5;241m=\u001b[39m \u001b[43m_validate\u001b[49m\u001b[43m(\u001b[49m\u001b[43mvalue\u001b[49m\u001b[43m)\u001b[49m\n",
      "Cell \u001b[1;32mIn[28], line 24\u001b[0m, in \u001b[0;36m_validate\u001b[1;34m(value)\u001b[0m\n\u001b[0;32m     22\u001b[0m \u001b[38;5;28;01mdef\u001b[39;00m \u001b[38;5;21m_validate\u001b[39m(value):\n\u001b[0;32m     23\u001b[0m     \u001b[38;5;28;01mif\u001b[39;00m \u001b[38;5;129;01mnot\u001b[39;00m \u001b[38;5;28misinstance\u001b[39m(value, \u001b[38;5;28mint\u001b[39m \u001b[38;5;241m|\u001b[39m \u001b[38;5;28mfloat\u001b[39m):\n\u001b[1;32m---> 24\u001b[0m         \u001b[38;5;28;01mraise\u001b[39;00m \u001b[38;5;167;01mValueError\u001b[39;00m(\u001b[38;5;124m\"\u001b[39m\u001b[38;5;124mnumber expected\u001b[39m\u001b[38;5;124m\"\u001b[39m)\n\u001b[0;32m     25\u001b[0m     \u001b[38;5;28;01mreturn\u001b[39;00m value\n",
      "\u001b[1;31mValueError\u001b[0m: number expected"
     ]
    }
   ],
   "source": [
    "class Point:\n",
    "    def __init__(self, x, y):\n",
    "        self.x = x\n",
    "        self.y = y\n",
    "\n",
    "    @property\n",
    "    def x(self):\n",
    "        return self._x\n",
    "\n",
    "    @x.setter\n",
    "    def x(self, value):\n",
    "        self._x = _validate(value)\n",
    "\n",
    "    @property\n",
    "    def y(self):\n",
    "        return self._y\n",
    "\n",
    "    @y.setter\n",
    "    def y(self, value):\n",
    "        self._y = _validate(value)\n",
    "\n",
    "def _validate(value):\n",
    "    if not isinstance(value, int | float):\n",
    "        raise ValueError(\"number expected\")\n",
    "    return value\n",
    "\n",
    "\n",
    "\n",
    "point = Point(12, 5)\n",
    "\n",
    "point.x\n",
    "\n",
    "point.y\n",
    "\n",
    "\n",
    "point.x = 24\n",
    "point.x\n",
    "\n",
    "\n",
    "point.y = \"10\"\n"
   ]
  },
  {
   "cell_type": "markdown",
   "id": "64346550",
   "metadata": {},
   "source": [
    "In this code snippet, you use the point instance as you did before. The API didn’t change. However, when you try to assign an invalid value to one of the coordinates, you get a ValueError. This happens because the setter method of a property runs whenever you assign a new value. So, the _validate() function runs every time you try to update the value of .x or .y."
   ]
  },
  {
   "cell_type": "code",
   "execution_count": null,
   "id": "810759a6",
   "metadata": {},
   "outputs": [],
   "source": []
  }
 ],
 "metadata": {
  "kernelspec": {
   "display_name": "Python 3 (ipykernel)",
   "language": "python",
   "name": "python3"
  },
  "language_info": {
   "codemirror_mode": {
    "name": "ipython",
    "version": 3
   },
   "file_extension": ".py",
   "mimetype": "text/x-python",
   "name": "python",
   "nbconvert_exporter": "python",
   "pygments_lexer": "ipython3",
   "version": "3.11.3"
  }
 },
 "nbformat": 4,
 "nbformat_minor": 5
}
